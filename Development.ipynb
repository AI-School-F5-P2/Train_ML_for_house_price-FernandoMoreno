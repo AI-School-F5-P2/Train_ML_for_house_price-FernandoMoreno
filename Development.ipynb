{
 "cells": [
  {
   "cell_type": "markdown",
   "id": "4f4ddde5",
   "metadata": {},
   "source": [
    "# Entrenamiento de Modelo para predecir el mejor precio de una casa"
   ]
  },
  {
   "cell_type": "markdown",
   "id": "b8166071",
   "metadata": {},
   "source": [
    "## Importamos Librerias"
   ]
  },
  {
   "cell_type": "code",
   "execution_count": null,
   "id": "47cece1f",
   "metadata": {},
   "outputs": [],
   "source": [
    "#Librerias basicas\n",
    "import pandas as pd \n",
    "import numpy as np\n",
    "\n",
    "#Librerias de visualizacion\n",
    "import matplotlib.pyplot as plt\n",
    "import seaborn as sns\n",
    "\n",
    "#Librerias de Machine L"
   ]
  }
 ],
 "metadata": {
  "kernelspec": {
   "display_name": "Python 3 (ipykernel)",
   "language": "python",
   "name": "python3"
  },
  "language_info": {
   "codemirror_mode": {
    "name": "ipython",
    "version": 3
   },
   "file_extension": ".py",
   "mimetype": "text/x-python",
   "name": "python",
   "nbconvert_exporter": "python",
   "pygments_lexer": "ipython3",
   "version": "3.11.4"
  }
 },
 "nbformat": 4,
 "nbformat_minor": 5
}
